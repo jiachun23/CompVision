{
 "cells": [
  {
   "cell_type": "code",
   "execution_count": 8,
   "metadata": {},
   "outputs": [],
   "source": [
    "import cv2\n",
    "import numpy as np\n",
    "\n",
    "# Reading video file from folder\n",
    "cap=cv2.VideoCapture('testing_vid.mp4')\n",
    "\n",
    "# Define the codec and create VideoWriter object\n",
    "fourcc = cv2.VideoWriter_fourcc('X','V','I','D')\n",
    "out = cv2.VideoWriter('output.avi',fourcc, 20.0, (1280,720))"
   ]
  },
  {
   "cell_type": "code",
   "execution_count": 9,
   "metadata": {},
   "outputs": [],
   "source": [
    "ret,frame1=cap.read()\n",
    "ret,frame2=cap.read()\n",
    "while cap.isOpened():\n",
    "    # if video is not finished, then proceed\n",
    "    if ret:\n",
    "        diff=cv2.absdiff(frame1,frame2)\n",
    "        gray=cv2.cvtColor(diff,cv2.COLOR_BGR2GRAY)\n",
    "        blur=cv2.GaussianBlur(gray,(5,5),0)\n",
    "        _,thresh=cv2.threshold(blur,20,255,cv2.THRESH_BINARY)\n",
    "        dilated=cv2.dilate(thresh,None,iterations=3)\n",
    "        contours,_=cv2.findContours(dilated,cv2.RETR_TREE,cv2.CHAIN_APPROX_SIMPLE)\n",
    "\n",
    "        count = 0\n",
    "        \n",
    "        for contour in contours:\n",
    "            # Save all the coordinates\n",
    "            (x,y,w,h)=cv2.boundingRect(contour)\n",
    "            \n",
    "\n",
    "            # if the area of contour is less than 8000, do nothing\n",
    "            if cv2.contourArea(contour)<8000:\n",
    "                continue\n",
    "            \n",
    "            count += 1\n",
    "            cv2.rectangle(frame1,(x,y),(x+w,y+h),(0,255,0),2)\n",
    "            cv2.putText(frame1,\"ALERT!!!\",(20,30),cv2.FONT_HERSHEY_SIMPLEX,\n",
    "                       1,(0,0,255),3)\n",
    "            cv2.putText(frame1,\"There are {} human walking towards you now\".format(str(count)),(20,60),cv2.FONT_HERSHEY_SIMPLEX,\n",
    "                       0.8,(0,0,255),3)\n",
    "\n",
    "           \n",
    "       # cv2.drawContours(frame1,contours,-1,(0,255,0),2)\n",
    "\n",
    "        # Resize the frame to resolution of 1280*720 to save the program's output as video\n",
    "        image = cv2.resize(frame1,(1280,720))\n",
    "        out.write(image)\n",
    "\n",
    "        cv2.imshow(\"video output\",frame1)\n",
    "        frame1=frame2\n",
    "        out.write(frame1)\n",
    "        ret,frame2=cap.read()\n",
    "\n",
    "        if cv2.waitKey(25) & 0xFF == ord('q'):\n",
    "            break\n",
    "            \n",
    "    # if video finished, then break\n",
    "    else:\n",
    "        break\n",
    "        \n",
    "out.release()\n",
    "cv2.destroyAllWindows()\n",
    "cap.release()"
   ]
  },
  {
   "cell_type": "code",
   "execution_count": null,
   "metadata": {},
   "outputs": [],
   "source": []
  }
 ],
 "metadata": {
  "kernelspec": {
   "display_name": "Python 3",
   "language": "python",
   "name": "python3"
  },
  "language_info": {
   "codemirror_mode": {
    "name": "ipython",
    "version": 3
   },
   "file_extension": ".py",
   "mimetype": "text/x-python",
   "name": "python",
   "nbconvert_exporter": "python",
   "pygments_lexer": "ipython3",
   "version": "3.7.6"
  }
 },
 "nbformat": 4,
 "nbformat_minor": 4
}
